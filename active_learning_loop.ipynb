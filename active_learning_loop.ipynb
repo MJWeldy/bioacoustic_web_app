{
 "cells": [
  {
   "cell_type": "markdown",
   "metadata": {},
   "source": [
    "# Active Learning for Bioacoustics\n"
   ]
  },
  {
   "cell_type": "markdown",
   "metadata": {},
   "source": [
    "The anaconda python environment requirements are saved in './requirements.text'. You can use anaconda and this requirements file to create a python environment with the appropriate libraries installed. To do this open a terminal/command prompt in the root directory of this folder and execute the following command.  \n",
    "\n",
    "conda create --name active_learning --file requirements.txt\n",
    "\n",
    "Then activate the environment using the following command. \n",
    "\n",
    "conda activate active_learning"
   ]
  },
  {
   "cell_type": "code",
   "execution_count": 1,
   "metadata": {},
   "outputs": [
    {
     "name": "stderr",
     "output_type": "stream",
     "text": [
      "2025-05-28 14:27:51.116826: I tensorflow/core/util/port.cc:153] oneDNN custom operations are on. You may see slightly different numerical results due to floating-point round-off errors from different computation orders. To turn them off, set the environment variable `TF_ENABLE_ONEDNN_OPTS=0`.\n",
      "2025-05-28 14:27:51.202308: E external/local_xla/xla/stream_executor/cuda/cuda_fft.cc:467] Unable to register cuFFT factory: Attempting to register factory for plugin cuFFT when one has already been registered\n",
      "WARNING: All log messages before absl::InitializeLog() is called are written to STDERR\n",
      "E0000 00:00:1748467671.234139  110818 cuda_dnn.cc:8579] Unable to register cuDNN factory: Attempting to register factory for plugin cuDNN when one has already been registered\n",
      "E0000 00:00:1748467671.245638  110818 cuda_blas.cc:1407] Unable to register cuBLAS factory: Attempting to register factory for plugin cuBLAS when one has already been registered\n",
      "W0000 00:00:1748467671.320382  110818 computation_placer.cc:177] computation placer already registered. Please check linkage and avoid linking the same target more than once.\n",
      "W0000 00:00:1748467671.320414  110818 computation_placer.cc:177] computation placer already registered. Please check linkage and avoid linking the same target more than once.\n",
      "W0000 00:00:1748467671.320416  110818 computation_placer.cc:177] computation placer already registered. Please check linkage and avoid linking the same target more than once.\n",
      "W0000 00:00:1748467671.320418  110818 computation_placer.cc:177] computation placer already registered. Please check linkage and avoid linking the same target more than once.\n",
      "2025-05-28 14:27:51.329768: I tensorflow/core/platform/cpu_feature_guard.cc:210] This TensorFlow binary is optimized to use available CPU instructions in performance-critical operations.\n",
      "To enable the following instructions: AVX2 AVX_VNNI FMA, in other operations, rebuild TensorFlow with the appropriate compiler flags.\n"
     ]
    }
   ],
   "source": [
    "import os\n",
    "os.environ[\"BACKEND\"] = \"PERCH\"\n",
    "#os.environ[\"BACKEND\"] = \"BirdNET_2.4\"\n",
    "#os.environ[\"BACKEND\"] = \"PNWCnet\"\n",
    "BACKEND = os.environ.get(\"BACKEND\", \"PERCH\")\n",
    "\n",
    "import polars as pl\n",
    "import numpy as np\n",
    "import librosa\n",
    "import pickle\n",
    "\n",
    "#from typing import List, Dict, Any, Tuple\n",
    "import soundfile as sf\n",
    "import tensorflow as tf\n",
    "import tensorflow_hub as hub\n",
    "\n",
    "from pathlib import Path\n",
    "from sklearn.model_selection import train_test_split\n",
    "\n",
    "from modules import utilities as u\n",
    "from modules import config as cfg\n",
    "from modules import classifier as tc\n",
    "from modules import database as db\n",
    "from modules import display as dis\n"
   ]
  },
  {
   "cell_type": "code",
   "execution_count": null,
   "metadata": {},
   "outputs": [],
   "source": []
  },
  {
   "cell_type": "code",
   "execution_count": 2,
   "metadata": {},
   "outputs": [],
   "source": [
    "# Global Variables \n",
    "# Target sound name\n",
    "sound_name = \"NOWA_song\"\n",
    "CLASS_MAP = {\n",
    "    \"NOWA_song\": 0,\n",
    "}\n",
    "#sound_name = \"HFS\"\n",
    "#CLASS_MAP = {\n",
    "#    \"HFS\": 0,\n",
    "#    \"NFS\": 1,\n",
    "#    \"SFS\": 2\n",
    "#}\n",
    "# Target path with audio files you'd like to perform active learning over\n",
    "path_to_target_folder = \"./data/wildtrax_wav/\"\n",
    "embeddings_filename = f\"{path_to_target_folder}{sound_name}_AL_embeddings.pkl\"\n",
    "Audio_DB_filename = f\"{path_to_target_folder}{sound_name}_AL_database.parquet\""
   ]
  },
  {
   "cell_type": "code",
   "execution_count": null,
   "metadata": {},
   "outputs": [],
   "source": []
  },
  {
   "cell_type": "code",
   "execution_count": null,
   "metadata": {},
   "outputs": [],
   "source": []
  },
  {
   "cell_type": "code",
   "execution_count": 20,
   "metadata": {},
   "outputs": [
    {
     "data": {
      "text/plain": [
       "<module 'modules.display' from '/home/matt/pCloudDrive/PROJECTS/Bioacoustic_Active_Learning/modules/display.py'>"
      ]
     },
     "execution_count": 20,
     "metadata": {},
     "output_type": "execute_result"
    }
   ],
   "source": [
    "import importlib\n",
    "importlib.reload(u)\n",
    "importlib.reload(cfg)\n",
    "importlib.reload(tc)\n",
    "importlib.reload(db)\n",
    "importlib.reload(dis)"
   ]
  },
  {
   "cell_type": "code",
   "execution_count": 3,
   "metadata": {},
   "outputs": [
    {
     "name": "stdout",
     "output_type": "stream",
     "text": [
      "Name: /physical_device:GPU:0   Type: GPU\n",
      "Name: /physical_device:GPU:1   Type: GPU\n",
      "2 Physical GPUs, 2 Logical GPUs\n"
     ]
    },
    {
     "name": "stderr",
     "output_type": "stream",
     "text": [
      "I0000 00:00:1748467758.911124  110818 gpu_device.cc:2019] Created device /job:localhost/replica:0/task:0/device:GPU:0 with 19939 MB memory:  -> device: 0, name: NVIDIA GeForce RTX 4090, pci bus id: 0000:01:00.0, compute capability: 8.9\n",
      "I0000 00:00:1748467758.911472  110818 gpu_device.cc:2019] Created device /job:localhost/replica:0/task:0/device:GPU:1 with 22272 MB memory:  -> device: 1, name: NVIDIA GeForce RTX 4090, pci bus id: 0000:05:00.0, compute capability: 8.9\n"
     ]
    }
   ],
   "source": [
    "# Setup GPU's so they don't take over my system\n",
    "gpus = tf.config.list_physical_devices(\"GPU\")\n",
    "for gpu in gpus:\n",
    "  print(\"Name:\", gpu.name, \"  Type:\", gpu.device_type)\n",
    "if gpus:\n",
    "  try:\n",
    "      # Currently, memory growth needs to be the same across GPUs\n",
    "      for gpu in gpus:\n",
    "          tf.config.experimental.set_memory_growth(gpu, True)\n",
    "      logical_gpus = tf.config.list_logical_devices(\"GPU\")\n",
    "      print(len(gpus), \"Physical GPUs,\", len(logical_gpus), \"Logical GPUs\")\n",
    "  except RuntimeError as e:\n",
    "      # Memory growth must be set before GPUs have been initialized\n",
    "      print(e) "
   ]
  },
  {
   "cell_type": "code",
   "execution_count": null,
   "metadata": {},
   "outputs": [
    {
     "name": "stderr",
     "output_type": "stream",
     "text": [
      "INFO: Created TensorFlow Lite XNNPACK delegate for CPU.\n"
     ]
    }
   ],
   "source": [
    "# Loading Perch version 8 from Tensorflow hub\n",
    "#e_model = hub.load(\n",
    "#    f\"https://www.kaggle.com/models/google/bird-vocalization-classifier/frameworks/TensorFlow2/variations/bird-vocalization-classifier/versions/{cfg.PERCH_V}\"\n",
    "#)\n",
    "#e_model = u.load_embedding_model()"
   ]
  },
  {
   "cell_type": "code",
   "execution_count": 4,
   "metadata": {},
   "outputs": [],
   "source": [
    "# Load Classifier\n",
    "#classifier_model = tf.keras.models.load_model(f\"./checkpoints/BCE.keras\")\n",
    "#classifier_model = tf.keras.models.load_model(f\"./checkpoints/species_level.keras\")\n",
    "classifier_model = tf.keras.models.load_model(f\"./checkpoints/BCE_reviewed_w_training_data.keras\")\n",
    "classifier_model = tf.keras.models.load_model(f\"./checkpoints/BCE_AL_3.keras\")"
   ]
  },
  {
   "cell_type": "code",
   "execution_count": 9,
   "metadata": {},
   "outputs": [],
   "source": [
    "# Instantiate the audio database and read from disk if present\n",
    "audio_db = db.Audio_DB()\n",
    "if Path(Audio_DB_filename).is_file():\n",
    "  audio_db.load_db(Audio_DB_filename)\n",
    "files = Path(f\"{path_to_target_folder}/audio/\").glob(\"**/*.wav\")\n",
    "files = [str(f) for f in files]\n"
   ]
  },
  {
   "cell_type": "code",
   "execution_count": 6,
   "metadata": {},
   "outputs": [
    {
     "name": "stdout",
     "output_type": "stream",
     "text": [
      "PERCH\n",
      "147 files found in the target folder\n"
     ]
    }
   ],
   "source": [
    "# Embed the data or load embeddings\n",
    "print(BACKEND)\n",
    "files = Path(f\"{path_to_target_folder}/audio/\").glob(\"**/*.wav\")\n",
    "files = [str(f) for f in files]\n",
    "print(f\"{len(files)} files found in the target folder\")\n",
    "if Path(embeddings_filename).is_file():\n",
    "  with open(embeddings_filename, \"rb\") as file:\n",
    "    embeddings = pickle.load(file)\n",
    "else:\n",
    "  embeddings = u.load_and_preprocess(files)\n",
    "with open(embeddings_filename, \"wb\") as file:\n",
    "  pickle.dump(embeddings, file)\n",
    "\n"
   ]
  },
  {
   "cell_type": "code",
   "execution_count": 7,
   "metadata": {},
   "outputs": [
    {
     "data": {
      "text/plain": [
       "['data/wildtrax_wav/audio/mp3_6714.wav',\n",
       " 'data/wildtrax_wav/audio/mp3_6723.wav',\n",
       " 'data/wildtrax_wav/audio/mp3_6736.wav',\n",
       " 'data/wildtrax_wav/audio/mp3_6738.wav',\n",
       " 'data/wildtrax_wav/audio/mp3_6743.wav',\n",
       " 'data/wildtrax_wav/audio/mp3_6746.wav',\n",
       " 'data/wildtrax_wav/audio/mp3_6767.wav',\n",
       " 'data/wildtrax_wav/audio/mp3_6831.wav',\n",
       " 'data/wildtrax_wav/audio/mp3_6833.wav',\n",
       " 'data/wildtrax_wav/audio/mp3_6834.wav',\n",
       " 'data/wildtrax_wav/audio/mp3_6851.wav',\n",
       " 'data/wildtrax_wav/audio/mp3_6852.wav',\n",
       " 'data/wildtrax_wav/audio/mp3_6854.wav',\n",
       " 'data/wildtrax_wav/audio/mp3_6859.wav',\n",
       " 'data/wildtrax_wav/audio/mp3_7114.wav',\n",
       " 'data/wildtrax_wav/audio/mp3_7115.wav',\n",
       " 'data/wildtrax_wav/audio/mp3_7117.wav',\n",
       " 'data/wildtrax_wav/audio/mp3_7123.wav',\n",
       " 'data/wildtrax_wav/audio/mp3_7124.wav',\n",
       " 'data/wildtrax_wav/audio/mp3_7174.wav',\n",
       " 'data/wildtrax_wav/audio/mp3_7175.wav',\n",
       " 'data/wildtrax_wav/audio/mp3_7178.wav',\n",
       " 'data/wildtrax_wav/audio/mp3_7208.wav',\n",
       " 'data/wildtrax_wav/audio/mp3_7244.wav',\n",
       " 'data/wildtrax_wav/audio/mp3_7253.wav',\n",
       " 'data/wildtrax_wav/audio/mp3_7254.wav',\n",
       " 'data/wildtrax_wav/audio/mp3_7263.wav',\n",
       " 'data/wildtrax_wav/audio/mp3_43961.wav',\n",
       " 'data/wildtrax_wav/audio/mp3_44047.wav',\n",
       " 'data/wildtrax_wav/audio/mp3_44064.wav',\n",
       " 'data/wildtrax_wav/audio/mp3_44122.wav',\n",
       " 'data/wildtrax_wav/audio/mp3_69272.wav',\n",
       " 'data/wildtrax_wav/audio/mp3_69298.wav',\n",
       " 'data/wildtrax_wav/audio/mp3_69363.wav',\n",
       " 'data/wildtrax_wav/audio/mp3_69416.wav',\n",
       " 'data/wildtrax_wav/audio/mp3_69522.wav',\n",
       " 'data/wildtrax_wav/audio/mp3_69526.wav',\n",
       " 'data/wildtrax_wav/audio/mp3_69548.wav',\n",
       " 'data/wildtrax_wav/audio/mp3_69550.wav',\n",
       " 'data/wildtrax_wav/audio/mp3_69613.wav',\n",
       " 'data/wildtrax_wav/audio/mp3_69693.wav',\n",
       " 'data/wildtrax_wav/audio/mp3_69704.wav',\n",
       " 'data/wildtrax_wav/audio/mp3_69769.wav',\n",
       " 'data/wildtrax_wav/audio/mp3_69771.wav',\n",
       " 'data/wildtrax_wav/audio/mp3_69772.wav',\n",
       " 'data/wildtrax_wav/audio/mp3_69773.wav',\n",
       " 'data/wildtrax_wav/audio/mp3_69795.wav',\n",
       " 'data/wildtrax_wav/audio/mp3_69797.wav',\n",
       " 'data/wildtrax_wav/audio/mp3_69798.wav',\n",
       " 'data/wildtrax_wav/audio/mp3_69800.wav',\n",
       " 'data/wildtrax_wav/audio/mp3_69809.wav',\n",
       " 'data/wildtrax_wav/audio/mp3_69846.wav',\n",
       " 'data/wildtrax_wav/audio/mp3_69847.wav',\n",
       " 'data/wildtrax_wav/audio/mp3_69850.wav',\n",
       " 'data/wildtrax_wav/audio/mp3_70060.wav',\n",
       " 'data/wildtrax_wav/audio/mp3_70306.wav',\n",
       " 'data/wildtrax_wav/audio/mp3_70874.wav',\n",
       " 'data/wildtrax_wav/audio/mp3_70898.wav',\n",
       " 'data/wildtrax_wav/audio/mp3_70931.wav',\n",
       " 'data/wildtrax_wav/audio/mp3_70933.wav',\n",
       " 'data/wildtrax_wav/audio/mp3_70964.wav',\n",
       " 'data/wildtrax_wav/audio/mp3_70966.wav',\n",
       " 'data/wildtrax_wav/audio/mp3_71009.wav',\n",
       " 'data/wildtrax_wav/audio/mp3_71603.wav',\n",
       " 'data/wildtrax_wav/audio/mp3_71856.wav',\n",
       " 'data/wildtrax_wav/audio/mp3_72224.wav',\n",
       " 'data/wildtrax_wav/audio/mp3_72226.wav',\n",
       " 'data/wildtrax_wav/audio/mp3_72228.wav',\n",
       " 'data/wildtrax_wav/audio/mp3_72313.wav',\n",
       " 'data/wildtrax_wav/audio/mp3_72317.wav',\n",
       " 'data/wildtrax_wav/audio/mp3_72389.wav',\n",
       " 'data/wildtrax_wav/audio/mp3_72418.wav',\n",
       " 'data/wildtrax_wav/audio/mp3_72457.wav',\n",
       " 'data/wildtrax_wav/audio/mp3_72487.wav',\n",
       " 'data/wildtrax_wav/audio/mp3_72527.wav',\n",
       " 'data/wildtrax_wav/audio/mp3_72534.wav',\n",
       " 'data/wildtrax_wav/audio/mp3_72645.wav',\n",
       " 'data/wildtrax_wav/audio/mp3_72648.wav',\n",
       " 'data/wildtrax_wav/audio/mp3_72656.wav',\n",
       " 'data/wildtrax_wav/audio/mp3_72658.wav',\n",
       " 'data/wildtrax_wav/audio/mp3_72660.wav',\n",
       " 'data/wildtrax_wav/audio/mp3_72670.wav',\n",
       " 'data/wildtrax_wav/audio/mp3_72673.wav',\n",
       " 'data/wildtrax_wav/audio/mp3_72679.wav',\n",
       " 'data/wildtrax_wav/audio/mp3_72767.wav',\n",
       " 'data/wildtrax_wav/audio/mp3_72770.wav',\n",
       " 'data/wildtrax_wav/audio/mp3_72775.wav',\n",
       " 'data/wildtrax_wav/audio/mp3_72779.wav',\n",
       " 'data/wildtrax_wav/audio/mp3_72788.wav',\n",
       " 'data/wildtrax_wav/audio/mp3_73187.wav',\n",
       " 'data/wildtrax_wav/audio/mp3_73294.wav',\n",
       " 'data/wildtrax_wav/audio/mp3_73296.wav',\n",
       " 'data/wildtrax_wav/audio/mp3_73346.wav',\n",
       " 'data/wildtrax_wav/audio/mp3_73354.wav',\n",
       " 'data/wildtrax_wav/audio/mp3_73357.wav',\n",
       " 'data/wildtrax_wav/audio/mp3_73365.wav',\n",
       " 'data/wildtrax_wav/audio/mp3_73419.wav',\n",
       " 'data/wildtrax_wav/audio/mp3_73551.wav',\n",
       " 'data/wildtrax_wav/audio/mp3_73633.wav',\n",
       " 'data/wildtrax_wav/audio/mp3_73638.wav',\n",
       " 'data/wildtrax_wav/audio/mp3_73828.wav',\n",
       " 'data/wildtrax_wav/audio/mp3_73864.wav',\n",
       " 'data/wildtrax_wav/audio/mp3_73866.wav',\n",
       " 'data/wildtrax_wav/audio/mp3_73870.wav',\n",
       " 'data/wildtrax_wav/audio/mp3_73932.wav',\n",
       " 'data/wildtrax_wav/audio/mp3_73936.wav',\n",
       " 'data/wildtrax_wav/audio/mp3_73976.wav',\n",
       " 'data/wildtrax_wav/audio/mp3_74896.wav',\n",
       " 'data/wildtrax_wav/audio/mp3_75274.wav',\n",
       " 'data/wildtrax_wav/audio/mp3_75275.wav',\n",
       " 'data/wildtrax_wav/audio/mp3_75382.wav',\n",
       " 'data/wildtrax_wav/audio/mp3_75384.wav',\n",
       " 'data/wildtrax_wav/audio/mp3_75386.wav',\n",
       " 'data/wildtrax_wav/audio/mp3_75387.wav',\n",
       " 'data/wildtrax_wav/audio/mp3_75638.wav',\n",
       " 'data/wildtrax_wav/audio/mp3_75700.wav',\n",
       " 'data/wildtrax_wav/audio/mp3_75703.wav',\n",
       " 'data/wildtrax_wav/audio/mp3_76505.wav',\n",
       " 'data/wildtrax_wav/audio/mp3_85671.wav',\n",
       " 'data/wildtrax_wav/audio/mp3_85695.wav',\n",
       " 'data/wildtrax_wav/audio/mp3_85696.wav',\n",
       " 'data/wildtrax_wav/audio/mp3_85698.wav',\n",
       " 'data/wildtrax_wav/audio/mp3_92074.wav',\n",
       " 'data/wildtrax_wav/audio/mp3_99132.wav',\n",
       " 'data/wildtrax_wav/audio/mp3_99154.wav',\n",
       " 'data/wildtrax_wav/audio/mp3_99155.wav',\n",
       " 'data/wildtrax_wav/audio/mp3_99176.wav',\n",
       " 'data/wildtrax_wav/audio/mp3_99196.wav',\n",
       " 'data/wildtrax_wav/audio/mp3_99216.wav',\n",
       " 'data/wildtrax_wav/audio/mp3_99224.wav',\n",
       " 'data/wildtrax_wav/audio/mp3_99249.wav',\n",
       " 'data/wildtrax_wav/audio/mp3_99423.wav',\n",
       " 'data/wildtrax_wav/audio/mp3_99427.wav',\n",
       " 'data/wildtrax_wav/audio/mp3_104761.wav',\n",
       " 'data/wildtrax_wav/audio/mp3_156858.wav',\n",
       " 'data/wildtrax_wav/audio/mp3_156881.wav',\n",
       " 'data/wildtrax_wav/audio/mp3_156923.wav',\n",
       " 'data/wildtrax_wav/audio/mp3_156979.wav',\n",
       " 'data/wildtrax_wav/audio/mp3_156990.wav',\n",
       " 'data/wildtrax_wav/audio/mp3_157085.wav',\n",
       " 'data/wildtrax_wav/audio/mp3_157091.wav',\n",
       " 'data/wildtrax_wav/audio/mp3_157095.wav',\n",
       " 'data/wildtrax_wav/audio/mp3_157246.wav',\n",
       " 'data/wildtrax_wav/audio/mp3_157260.wav',\n",
       " 'data/wildtrax_wav/audio/mp3_157313.wav',\n",
       " 'data/wildtrax_wav/audio/mp3_157327.wav',\n",
       " 'data/wildtrax_wav/audio/mp3_157449.wav']"
      ]
     },
     "execution_count": 7,
     "metadata": {},
     "output_type": "execute_result"
    }
   ],
   "source": [
    "files"
   ]
  },
  {
   "cell_type": "markdown",
   "metadata": {},
   "source": [
    "Build the reference database using the polars package. "
   ]
  },
  {
   "cell_type": "code",
   "execution_count": 8,
   "metadata": {},
   "outputs": [
    {
     "ename": "KeyboardInterrupt",
     "evalue": "",
     "output_type": "error",
     "traceback": [
      "\u001b[31m---------------------------------------------------------------------------\u001b[39m",
      "\u001b[31mKeyboardInterrupt\u001b[39m                         Traceback (most recent call last)",
      "\u001b[36mCell\u001b[39m\u001b[36m \u001b[39m\u001b[32mIn[8]\u001b[39m\u001b[32m, line 4\u001b[39m\n\u001b[32m      2\u001b[39m \u001b[38;5;28;01mfor\u001b[39;00m i, embedding \u001b[38;5;129;01min\u001b[39;00m \u001b[38;5;28menumerate\u001b[39m(files): \u001b[38;5;66;03m#enumerate(embeddings):\u001b[39;00m\n\u001b[32m      3\u001b[39m   n_row = \u001b[32m1\u001b[39m\u001b[38;5;66;03m#embedding.shape[0]\u001b[39;00m\n\u001b[32m----> \u001b[39m\u001b[32m4\u001b[39m   f = \u001b[43msf\u001b[49m\u001b[43m.\u001b[49m\u001b[43mSoundFile\u001b[49m\u001b[43m(\u001b[49m\u001b[43mfiles\u001b[49m\u001b[43m[\u001b[49m\u001b[43mi\u001b[49m\u001b[43m]\u001b[49m\u001b[43m)\u001b[49m\n\u001b[32m      5\u001b[39m   duration_sec = f.frames / f.samplerate\n\u001b[32m      6\u001b[39m   \u001b[38;5;66;03m#audio = u.load_audio(files[i])\u001b[39;00m\n\u001b[32m      7\u001b[39m   \u001b[38;5;66;03m#duration_sec = len(audio)/cfg.TARGET_SR\u001b[39;00m\n",
      "\u001b[36mFile \u001b[39m\u001b[32m~/miniconda3/envs/active_learning/lib/python3.12/site-packages/soundfile.py:690\u001b[39m, in \u001b[36mSoundFile.__init__\u001b[39m\u001b[34m(self, file, mode, samplerate, channels, subtype, endian, format, closefd, compression_level, bitrate_mode)\u001b[39m\n\u001b[32m    687\u001b[39m \u001b[38;5;28mself\u001b[39m._bitrate_mode = bitrate_mode\n\u001b[32m    688\u001b[39m \u001b[38;5;28mself\u001b[39m._info = _create_info_struct(file, mode, samplerate, channels,\n\u001b[32m    689\u001b[39m                                  \u001b[38;5;28mformat\u001b[39m, subtype, endian)\n\u001b[32m--> \u001b[39m\u001b[32m690\u001b[39m \u001b[38;5;28mself\u001b[39m._file = \u001b[38;5;28;43mself\u001b[39;49m\u001b[43m.\u001b[49m\u001b[43m_open\u001b[49m\u001b[43m(\u001b[49m\u001b[43mfile\u001b[49m\u001b[43m,\u001b[49m\u001b[43m \u001b[49m\u001b[43mmode_int\u001b[49m\u001b[43m,\u001b[49m\u001b[43m \u001b[49m\u001b[43mclosefd\u001b[49m\u001b[43m)\u001b[49m\n\u001b[32m    691\u001b[39m \u001b[38;5;28;01mif\u001b[39;00m \u001b[38;5;28mset\u001b[39m(mode).issuperset(\u001b[33m'\u001b[39m\u001b[33mr+\u001b[39m\u001b[33m'\u001b[39m) \u001b[38;5;129;01mand\u001b[39;00m \u001b[38;5;28mself\u001b[39m.seekable():\n\u001b[32m    692\u001b[39m     \u001b[38;5;66;03m# Move write position to 0 (like in Python file objects)\u001b[39;00m\n\u001b[32m    693\u001b[39m     \u001b[38;5;28mself\u001b[39m.seek(\u001b[32m0\u001b[39m)\n",
      "\u001b[36mFile \u001b[39m\u001b[32m~/miniconda3/envs/active_learning/lib/python3.12/site-packages/soundfile.py:1254\u001b[39m, in \u001b[36mSoundFile._open\u001b[39m\u001b[34m(self, file, mode_int, closefd)\u001b[39m\n\u001b[32m   1252\u001b[39m         \u001b[38;5;28;01melse\u001b[39;00m:\n\u001b[32m   1253\u001b[39m             file = file.encode(_sys.getfilesystemencoding())\n\u001b[32m-> \u001b[39m\u001b[32m1254\u001b[39m     file_ptr = \u001b[43mopenfunction\u001b[49m\u001b[43m(\u001b[49m\u001b[43mfile\u001b[49m\u001b[43m,\u001b[49m\u001b[43m \u001b[49m\u001b[43mmode_int\u001b[49m\u001b[43m,\u001b[49m\u001b[43m \u001b[49m\u001b[38;5;28;43mself\u001b[39;49m\u001b[43m.\u001b[49m\u001b[43m_info\u001b[49m\u001b[43m)\u001b[49m\n\u001b[32m   1255\u001b[39m \u001b[38;5;28;01melif\u001b[39;00m \u001b[38;5;28misinstance\u001b[39m(file, \u001b[38;5;28mint\u001b[39m):\n\u001b[32m   1256\u001b[39m     file_ptr = _snd.sf_open_fd(file, mode_int, \u001b[38;5;28mself\u001b[39m._info, closefd)\n",
      "\u001b[31mKeyboardInterrupt\u001b[39m: "
     ]
    }
   ],
   "source": [
    "# Populate the database\n",
    "for i, embedding in enumerate(files): #enumerate(embeddings):\n",
    "  n_row = 1#embedding.shape[0]\n",
    "  f = sf.SoundFile(files[i])\n",
    "  duration_sec = f.frames / f.samplerate\n",
    "  #audio = u.load_audio(files[i])\n",
    "  #duration_sec = len(audio)/cfg.TARGET_SR\n",
    "  clip_start = 0\n",
    "  file_name = files[i].split(\"/\")[-1].split(\".\")[0]\n",
    "  file_path = files[i]\n",
    "  for n in range(n_row):\n",
    "    audio_db.add_clip_row(\n",
    "      file_name = file_name,\n",
    "      file_path = file_path,\n",
    "      duration_sec = duration_sec,\n",
    "      clip_start = clip_start,\n",
    "      clip_end = clip_start + cfg.WINDOW, \n",
    "      sampling_rate=cfg.TARGET_SR,\n",
    "    )\n",
    "    clip_start += cfg.WINDOW\n",
    "\n",
    "#preds = u.get_classifier_predictions(embeddings, classifier_model, CLASS_MAP, sound_name)\n",
    "#audio_db.populate_scores(preds)"
   ]
  },
  {
   "cell_type": "code",
   "execution_count": 11,
   "metadata": {},
   "outputs": [
    {
     "data": {
      "application/vnd.jupyter.widget-view+json": {
       "model_id": "ce6495050a0141a1989b506695fed550",
       "version_major": 2,
       "version_minor": 0
      },
      "text/plain": [
       "VBox(children=(HBox(children=(HTML(value=\"<h3 style='margin:0px;'>Audio Clip Annotation Tool (Random Mode)</h3…"
      ]
     },
     "metadata": {},
     "output_type": "display_data"
    }
   ],
   "source": [
    "dis.annotate(audio_db, \n",
    "             black_and_white=False, \n",
    "             review_mode = \"random\", bin_target=50)"
   ]
  },
  {
   "cell_type": "code",
   "execution_count": null,
   "metadata": {},
   "outputs": [],
   "source": []
  },
  {
   "cell_type": "code",
   "execution_count": 16,
   "metadata": {},
   "outputs": [
    {
     "name": "stdout",
     "output_type": "stream",
     "text": [
      "Found 0 positive clips and 28 negative clips for export.\n",
      "Exported 10/28 negative clips...\n",
      "Exported 20/28 negative clips...\n",
      "Export complete. Successfully exported 0/0 positive clips and 28/28 negative clips.\n"
     ]
    },
    {
     "data": {
      "text/plain": [
       "(0, 28)"
      ]
     },
     "execution_count": 16,
     "metadata": {},
     "output_type": "execute_result"
    }
   ],
   "source": [
    "#Save your work\n",
    "#audio_db.save_db(Audio_DB_filename)\n",
    "audio_db.export_wav_clips(f\"{path_to_target_folder}/annotated/\", sound_name)"
   ]
  },
  {
   "cell_type": "code",
   "execution_count": 18,
   "metadata": {},
   "outputs": [
    {
     "name": "stderr",
     "output_type": "stream",
     "text": [
      "2025-04-01 14:29:51.110343: W tensorflow/compiler/tf2xla/kernels/assert_op.cc:39] Ignoring Assert operator jax2tf_infer_fn_/assert_equal_1/Assert/AssertGuard/Assert\n",
      "2025-04-01 14:29:52.122125: I external/local_xla/xla/stream_executor/cuda/subprocess_compilation.cc:346] ptxas warning : Registers are spilled to local memory in function 'gemm_fusion_dot_51', 172 bytes spill stores, 172 bytes spill loads\n",
      "\n",
      "2025-04-01 14:29:52.417421: I external/local_xla/xla/stream_executor/cuda/subprocess_compilation.cc:346] ptxas warning : Registers are spilled to local memory in function 'gemm_fusion_dot_51', 4580 bytes spill stores, 4580 bytes spill loads\n",
      "\n",
      "2025-04-01 14:29:52.462181: I external/local_xla/xla/stream_executor/cuda/subprocess_compilation.cc:346] ptxas warning : Registers are spilled to local memory in function 'gemm_fusion_dot_51', 4452 bytes spill stores, 4436 bytes spill loads\n",
      "\n"
     ]
    }
   ],
   "source": [
    "files = Path(f\"./data/annotated_reviewed_w_train_3/\").glob(\"**/*.wav\")\n",
    "files = [str(f) for f in files]\n",
    "labels = [u.get_label(CLASS_MAP, file) for file in files]\n",
    "train_embeddings = u.load_and_preprocess(files)\n",
    "X_train, X_test, y_train, y_test = train_test_split(train_embeddings, labels, test_size=0.30, random_state=42)"
   ]
  },
  {
   "cell_type": "code",
   "execution_count": 21,
   "metadata": {},
   "outputs": [
    {
     "name": "stdout",
     "output_type": "stream",
     "text": [
      "Macro cMAP of best fit 0.18625103030811452 obtained on step: 1 val loss: 0.3153334856033325\n",
      "Macro cMAP of best fit 0.2695747753770999 obtained on step: 2 val loss: 0.36898940801620483\n",
      "Macro cMAP of best fit 0.39267066968220016 obtained on step: 3 val loss: 0.3797832131385803\n",
      "Macro cMAP of best fit 0.5426233948049922 obtained on step: 4 val loss: 0.3611080050468445\n",
      "Macro cMAP of best fit 0.6181850547151513 obtained on step: 5 val loss: 0.319024920463562\n",
      "Macro cMAP of best fit 0.6577631956251807 obtained on step: 6 val loss: 0.2699712812900543\n",
      "Macro cMAP of best fit 0.6837178079763275 obtained on step: 7 val loss: 0.23179514706134796\n",
      "Macro cMAP of best fit 0.7044540714635565 obtained on step: 8 val loss: 0.1980213224887848\n",
      "Macro cMAP of best fit 0.7249593851067856 obtained on step: 9 val loss: 0.17121650278568268\n",
      "Macro cMAP of best fit 0.7522910440739158 obtained on step: 10 val loss: 0.14308057725429535\n",
      "Macro cMAP of best fit 0.7723169324025059 obtained on step: 11 val loss: 0.12779565155506134\n",
      "Macro cMAP of best fit 0.7887753354127255 obtained on step: 12 val loss: 0.12117141485214233\n",
      "Macro cMAP of best fit 0.800915147164235 obtained on step: 13 val loss: 0.12079660594463348\n",
      "Macro cMAP of best fit 0.8112802284600638 obtained on step: 14 val loss: 0.12280944734811783\n",
      "Macro cMAP of best fit 0.8174552091584628 obtained on step: 15 val loss: 0.11727853119373322\n",
      "Macro cMAP of best fit 0.8260843334093841 obtained on step: 16 val loss: 0.1114308163523674\n",
      "Macro cMAP of best fit 0.8272445987766561 obtained on step: 17 val loss: 0.10764571279287338\n",
      "Macro cMAP of best fit 0.8312723387100484 obtained on step: 18 val loss: 0.1076694205403328\n",
      "Macro cMAP of best fit 0.8342823034154931 obtained on step: 19 val loss: 0.11093779653310776\n",
      "Macro cMAP of best fit 0.8365792860975367 obtained on step: 20 val loss: 0.11365243047475815\n",
      "Macro cMAP of best fit 0.8424770833269126 obtained on step: 21 val loss: 0.11590650677680969\n",
      "Macro cMAP of best fit 0.8448084961736098 obtained on step: 22 val loss: 0.1185273751616478\n",
      "Macro cMAP of best fit 0.8482167683759222 obtained on step: 23 val loss: 0.120649054646492\n",
      "Macro cMAP of best fit 0.8485546763938976 obtained on step: 24 val loss: 0.12271676957607269\n",
      "Macro cMAP of best fit 0.8504424545535755 obtained on step: 25 val loss: 0.12475835531949997\n",
      "Macro cMAP of best fit 0.8528346539903345 obtained on step: 26 val loss: 0.12570485472679138\n",
      "Macro cMAP of best fit 0.854575858657533 obtained on step: 29 val loss: 0.1247185543179512\n",
      "Macro cMAP of best fit 0.855587189138363 obtained on step: 30 val loss: 0.12425720691680908\n",
      "Macro cMAP of best fit 0.859167284240669 obtained on step: 31 val loss: 0.12262153625488281\n",
      "Macro cMAP of best fit 0.8603995469094684 obtained on step: 32 val loss: 0.12130692601203918\n",
      "Macro cMAP of best fit 0.8604829449523667 obtained on step: 33 val loss: 0.12035432457923889\n",
      "Macro cMAP of best fit 0.8608422754641262 obtained on step: 34 val loss: 0.11704982817173004\n",
      "Macro cMAP of best fit 0.8625381155284776 obtained on step: 35 val loss: 0.1137612983584404\n",
      "Macro cMAP of best fit 0.8627139520514944 obtained on step: 36 val loss: 0.1111910492181778\n",
      "Macro cMAP of best fit 0.8627879781280763 obtained on step: 37 val loss: 0.10988036543130875\n",
      "Macro cMAP of best fit 0.8637295979694504 obtained on step: 115 val loss: 0.13017503917217255\n",
      "Macro cMAP of best fit 0.8638777140311668 obtained on step: 116 val loss: 0.13695234060287476\n",
      "Macro cMAP of best fit 0.8663646843186629 obtained on step: 117 val loss: 0.1461523026227951\n",
      "Macro cMAP of best fit 0.8672499934831074 obtained on step: 118 val loss: 0.155318945646286\n",
      "Macro cMAP of best fit 0.8676437628933499 obtained on step: 122 val loss: 0.15269158780574799\n",
      "Macro cMAP of best fit 0.8677429080387348 obtained on step: 123 val loss: 0.14722663164138794\n",
      "Macro cMAP of best fit 0.8694348365809855 obtained on step: 125 val loss: 0.13704782724380493\n",
      "Macro cMAP of best fit 0.8698012750855445 obtained on step: 127 val loss: 0.12870760262012482\n",
      "Macro cMAP of best fit 0.8703106295987273 obtained on step: 128 val loss: 0.12524257600307465\n",
      "Macro cMAP of best fit 0.8716015205012653 obtained on step: 130 val loss: 0.11963310092687607\n",
      "Macro cMAP of best fit 0.8717106339583041 obtained on step: 132 val loss: 0.11919005215167999\n",
      "Macro cMAP of best fit 0.8719273220769154 obtained on step: 133 val loss: 0.11644472181797028\n",
      "Macro cMAP of best fit 0.8727321481659764 obtained on step: 140 val loss: 0.10687427967786789\n",
      "Macro cMAP of best fit 0.8742741760709447 obtained on step: 142 val loss: 0.10697440057992935\n",
      "Macro cMAP of best fit 0.8749749610702959 obtained on step: 143 val loss: 0.10774465650320053\n",
      "Macro cMAP of best fit 0.875361744692414 obtained on step: 156 val loss: 0.1385853886604309\n",
      "Macro cMAP of best fit 0.8755060941436683 obtained on step: 693 val loss: 0.17869772017002106\n",
      "Macro cMAP of best fit 0.8755685747370715 obtained on step: 696 val loss: 0.17529377341270447\n",
      "Macro cMAP of best fit 0.8763255043245095 obtained on step: 699 val loss: 0.16831927001476288\n",
      "Macro cMAP of best fit 0.8767251876239337 obtained on step: 700 val loss: 0.16513581573963165\n",
      "Macro cMAP of best fit 0.8767652886438527 obtained on step: 709 val loss: 0.14707735180854797\n",
      "Macro cMAP of best fit 0.8775063968841224 obtained on step: 710 val loss: 0.14635655283927917\n",
      "Macro cMAP of best fit 0.8782665888679219 obtained on step: 712 val loss: 0.14518433809280396\n",
      "Macro cMAP of best fit 0.8786006988178744 obtained on step: 713 val loss: 0.14470642805099487\n",
      "Macro cMAP of best fit 0.8790852340678136 obtained on step: 715 val loss: 0.14396390318870544\n",
      "Macro cMAP of best fit 0.8792778385240656 obtained on step: 716 val loss: 0.14367623627185822\n",
      "Macro cMAP of best fit 0.8794755116978288 obtained on step: 719 val loss: 0.14503313601016998\n",
      "Macro cMAP of best fit 0.8795043085027823 obtained on step: 721 val loss: 0.14602702856063843\n",
      "Macro cMAP of best fit 0.8798984776154091 obtained on step: 722 val loss: 0.1475018858909607\n",
      "Macro cMAP of best fit 0.8806957096894266 obtained on step: 723 val loss: 0.14943867921829224\n",
      "Macro cMAP of best fit 0.88199314191522 obtained on step: 724 val loss: 0.15133005380630493\n",
      "Macro cMAP of best fit 0.8829196596288443 obtained on step: 725 val loss: 0.15310250222682953\n",
      "Macro cMAP of best fit 0.8844249194003753 obtained on step: 726 val loss: 0.15527060627937317\n",
      "Macro cMAP of best fit 0.8863059724850604 obtained on step: 727 val loss: 0.15738707780838013\n",
      "Macro cMAP of best fit 0.8863377185168064 obtained on step: 728 val loss: 0.15937194228172302\n",
      "Macro cMAP of best fit 0.8872314127622689 obtained on step: 729 val loss: 0.16128171980381012\n",
      "Macro cMAP of best fit 0.8872743001890888 obtained on step: 730 val loss: 0.160806342959404\n",
      "Macro cMAP of best fit 0.887850564840759 obtained on step: 731 val loss: 0.1605600267648697\n",
      "Macro cMAP of best fit 0.8880973622982158 obtained on step: 732 val loss: 0.16019366681575775\n",
      "Macro cMAP of best fit 0.888571535814577 obtained on step: 734 val loss: 0.15956328809261322\n",
      "Macro cMAP of best fit 0.8892012795451001 obtained on step: 736 val loss: 0.15920202434062958\n",
      "Macro cMAP of best fit 0.8895035634680736 obtained on step: 737 val loss: 0.15907402336597443\n",
      "Macro cMAP of best fit 0.8901090930741664 obtained on step: 738 val loss: 0.1589135378599167\n",
      "Macro cMAP of best fit 0.8904344021177578 obtained on step: 739 val loss: 0.158735990524292\n",
      "Macro cMAP of best fit 0.8904688373794658 obtained on step: 740 val loss: 0.15862350165843964\n",
      "Macro cMAP of best fit 0.8905673509431146 obtained on step: 741 val loss: 0.15418674051761627\n",
      "Macro cMAP of best fit 0.8915113235757427 obtained on step: 742 val loss: 0.15052765607833862\n",
      "Macro cMAP of best fit 0.8917383665640704 obtained on step: 743 val loss: 0.14724019169807434\n",
      "Macro cMAP of best fit 0.8935821996436148 obtained on step: 744 val loss: 0.1444307416677475\n",
      "Macro cMAP of best fit 0.8963485833637573 obtained on step: 784 val loss: 0.1780955195426941\n",
      "Macro cMAP of best fit 0.8975532476100835 obtained on step: 789 val loss: 0.15637724101543427\n",
      "Macro cMAP of best fit 0.8989941123624205 obtained on step: 793 val loss: 0.15190398693084717\n",
      "Macro cMAP of best fit 0.899428081667509 obtained on step: 815 val loss: 0.12296480685472488\n",
      "Macro cMAP of best fit 0.900944847214512 obtained on step: 816 val loss: 0.12054009735584259\n",
      "Macro cMAP of best fit 0.9018347248563361 obtained on step: 817 val loss: 0.1184118241071701\n",
      "Macro cMAP of best fit 0.9029880534981988 obtained on step: 818 val loss: 0.11657626181840897\n",
      "Macro cMAP of best fit 0.9038026779120991 obtained on step: 819 val loss: 0.1213035061955452\n",
      "Macro cMAP of best fit 0.904953658322366 obtained on step: 820 val loss: 0.12580904364585876\n",
      "Reducing learning rate: from 0.1 to 0.05 on step 1081\n",
      "Reducing learning rate: from 0.05 to 0.025 on step 2081\n",
      "Reducing learning rate: from 0.025 to 0.0125 on step 3081\n",
      "Reducing learning rate: from 0.0125 to 0.00625 on step 4081\n",
      "Reducing learning rate: from 0.00625 to 0.003125 on step 5081\n",
      "Final loss: 1.1336898086966585e-09\n",
      "Macro cMAP of best fit 0.904953658322366\n"
     ]
    }
   ],
   "source": [
    "#files = Path(f\"./data/phone_recordings/annotated/\").glob(\"**/*.wav\")\n",
    "#files = [str(f) for f in files]\n",
    "#labels = [u.get_label(CLASS_MAP, file) for file in files]\n",
    "#embeddings = list(map(lambda f: load_and_preprocess(f, e_model),  files))\n",
    "#X_train, X_test, y_train, y_test = train_test_split(embeddings, labels, test_size=0.30, random_state=42)\n",
    "\n",
    "importlib.reload(tc)\n",
    "classifier_model, train_losses, val_losses, cmaps = tc.fit_w_tape(\n",
    "    np.array(X_train).squeeze(),\n",
    "    np.array(y_train),\n",
    "    np.array(X_test).squeeze(),\n",
    "    np.array(y_test),\n",
    "    10000,\n",
    "    32,\n",
    "    0.1,\n",
    "    2,\n",
    "    \"BCE_AL_3\",\n",
    "    True,\n",
    ")\n",
    "classifier_model = tf.keras.models.load_model(f\"./checkpoints/BCE_AL_3.keras\")"
   ]
  },
  {
   "cell_type": "code",
   "execution_count": 10,
   "metadata": {},
   "outputs": [],
   "source": [
    "preds = u.get_classifier_predictions(embeddings, classifier_model, CLASS_MAP, sound_name)\n",
    "audio_db.populate_scores(preds)"
   ]
  },
  {
   "cell_type": "code",
   "execution_count": 11,
   "metadata": {},
   "outputs": [
    {
     "name": "stdout",
     "output_type": "stream",
     "text": [
      "AUC: 0.999645390070922\n",
      "AP:  0.990909090909091\n"
     ]
    }
   ],
   "source": [
    "#Evalutate focal class performance\n",
    "annotated_examples = audio_db.df.filter(pl.col(\"annotation\") < 3)\n",
    "print(f\"AUC: {tc.get_AUC(annotated_examples.select(\"annotation\"), annotated_examples.select(\"score\"))['individual'][CLASS_MAP[sound_name]]}\")\n",
    "print(f\"AP:  {tc.cmap(annotated_examples.select(\"annotation\"), annotated_examples.select(\"score\"), 0)['individual'][CLASS_MAP[sound_name]]}\")"
   ]
  },
  {
   "cell_type": "markdown",
   "metadata": {},
   "source": [
    "| Classifier |n clips| AUC | Average precision |\n",
    "| :- | :-: | :-: | :-: |\n",
    "| original | 978 | 0.767 | 0.192 |\n",
    "\n",
    "\n"
   ]
  },
  {
   "cell_type": "code",
   "execution_count": 26,
   "metadata": {},
   "outputs": [],
   "source": [
    "audio_db.df.write_csv(\"output.csv\")"
   ]
  },
  {
   "cell_type": "code",
   "execution_count": null,
   "metadata": {},
   "outputs": [],
   "source": []
  },
  {
   "cell_type": "code",
   "execution_count": null,
   "metadata": {},
   "outputs": [],
   "source": []
  },
  {
   "cell_type": "code",
   "execution_count": 10,
   "metadata": {},
   "outputs": [
    {
     "data": {
      "text/html": [
       "<div><style>\n",
       ".dataframe > thead > tr,\n",
       ".dataframe > tbody > tr {\n",
       "  text-align: right;\n",
       "  white-space: pre-wrap;\n",
       "}\n",
       "</style>\n",
       "<small>shape: (5, 9)</small><table border=\"1\" class=\"dataframe\"><thead><tr><th>file_name</th><th>file_path</th><th>duration_sec</th><th>clip_start</th><th>clip_end</th><th>sampling_rate</th><th>score</th><th>annotation</th><th>created_at</th></tr><tr><td>str</td><td>str</td><td>f32</td><td>f32</td><td>f32</td><td>i32</td><td>f32</td><td>i32</td><td>datetime[μs]</td></tr></thead><tbody><tr><td>&quot;mp3_104761&quot;</td><td>&quot;data/wildtrax_wav/audio/mp3_10…</td><td>180.062042</td><td>0.0</td><td>5.0</td><td>32000</td><td>0.000003</td><td>4</td><td>2025-03-28 11:20:58.113609</td></tr><tr><td>&quot;mp3_104761&quot;</td><td>&quot;data/wildtrax_wav/audio/mp3_10…</td><td>180.062042</td><td>5.0</td><td>10.0</td><td>32000</td><td>0.000002</td><td>4</td><td>2025-03-28 11:20:58.114834</td></tr><tr><td>&quot;mp3_104761&quot;</td><td>&quot;data/wildtrax_wav/audio/mp3_10…</td><td>180.062042</td><td>10.0</td><td>15.0</td><td>32000</td><td>0.000038</td><td>4</td><td>2025-03-28 11:20:58.115287</td></tr><tr><td>&quot;mp3_104761&quot;</td><td>&quot;data/wildtrax_wav/audio/mp3_10…</td><td>180.062042</td><td>15.0</td><td>20.0</td><td>32000</td><td>0.663639</td><td>4</td><td>2025-03-28 11:20:58.115522</td></tr><tr><td>&quot;mp3_104761&quot;</td><td>&quot;data/wildtrax_wav/audio/mp3_10…</td><td>180.062042</td><td>20.0</td><td>25.0</td><td>32000</td><td>0.00001</td><td>4</td><td>2025-03-28 11:20:58.115711</td></tr></tbody></table></div>"
      ],
      "text/plain": [
       "shape: (5, 9)\n",
       "┌───────────┬───────────┬───────────┬───────────┬───┬───────────┬──────────┬───────────┬───────────┐\n",
       "│ file_name ┆ file_path ┆ duration_ ┆ clip_star ┆ … ┆ sampling_ ┆ score    ┆ annotatio ┆ created_a │\n",
       "│ ---       ┆ ---       ┆ sec       ┆ t         ┆   ┆ rate      ┆ ---      ┆ n         ┆ t         │\n",
       "│ str       ┆ str       ┆ ---       ┆ ---       ┆   ┆ ---       ┆ f32      ┆ ---       ┆ ---       │\n",
       "│           ┆           ┆ f32       ┆ f32       ┆   ┆ i32       ┆          ┆ i32       ┆ datetime[ │\n",
       "│           ┆           ┆           ┆           ┆   ┆           ┆          ┆           ┆ μs]       │\n",
       "╞═══════════╪═══════════╪═══════════╪═══════════╪═══╪═══════════╪══════════╪═══════════╪═══════════╡\n",
       "│ mp3_10476 ┆ data/wild ┆ 180.06204 ┆ 0.0       ┆ … ┆ 32000     ┆ 0.000003 ┆ 4         ┆ 2025-03-2 │\n",
       "│ 1         ┆ trax_wav/ ┆ 2         ┆           ┆   ┆           ┆          ┆           ┆ 8 11:20:5 │\n",
       "│           ┆ audio/mp3 ┆           ┆           ┆   ┆           ┆          ┆           ┆ 8.113609  │\n",
       "│           ┆ _10…      ┆           ┆           ┆   ┆           ┆          ┆           ┆           │\n",
       "│ mp3_10476 ┆ data/wild ┆ 180.06204 ┆ 5.0       ┆ … ┆ 32000     ┆ 0.000002 ┆ 4         ┆ 2025-03-2 │\n",
       "│ 1         ┆ trax_wav/ ┆ 2         ┆           ┆   ┆           ┆          ┆           ┆ 8 11:20:5 │\n",
       "│           ┆ audio/mp3 ┆           ┆           ┆   ┆           ┆          ┆           ┆ 8.114834  │\n",
       "│           ┆ _10…      ┆           ┆           ┆   ┆           ┆          ┆           ┆           │\n",
       "│ mp3_10476 ┆ data/wild ┆ 180.06204 ┆ 10.0      ┆ … ┆ 32000     ┆ 0.000038 ┆ 4         ┆ 2025-03-2 │\n",
       "│ 1         ┆ trax_wav/ ┆ 2         ┆           ┆   ┆           ┆          ┆           ┆ 8 11:20:5 │\n",
       "│           ┆ audio/mp3 ┆           ┆           ┆   ┆           ┆          ┆           ┆ 8.115287  │\n",
       "│           ┆ _10…      ┆           ┆           ┆   ┆           ┆          ┆           ┆           │\n",
       "│ mp3_10476 ┆ data/wild ┆ 180.06204 ┆ 15.0      ┆ … ┆ 32000     ┆ 0.663639 ┆ 4         ┆ 2025-03-2 │\n",
       "│ 1         ┆ trax_wav/ ┆ 2         ┆           ┆   ┆           ┆          ┆           ┆ 8 11:20:5 │\n",
       "│           ┆ audio/mp3 ┆           ┆           ┆   ┆           ┆          ┆           ┆ 8.115522  │\n",
       "│           ┆ _10…      ┆           ┆           ┆   ┆           ┆          ┆           ┆           │\n",
       "│ mp3_10476 ┆ data/wild ┆ 180.06204 ┆ 20.0      ┆ … ┆ 32000     ┆ 0.00001  ┆ 4         ┆ 2025-03-2 │\n",
       "│ 1         ┆ trax_wav/ ┆ 2         ┆           ┆   ┆           ┆          ┆           ┆ 8 11:20:5 │\n",
       "│           ┆ audio/mp3 ┆           ┆           ┆   ┆           ┆          ┆           ┆ 8.115711  │\n",
       "│           ┆ _10…      ┆           ┆           ┆   ┆           ┆          ┆           ┆           │\n",
       "└───────────┴───────────┴───────────┴───────────┴───┴───────────┴──────────┴───────────┴───────────┘"
      ]
     },
     "execution_count": 10,
     "metadata": {},
     "output_type": "execute_result"
    }
   ],
   "source": [
    "audio_db.df.head()"
   ]
  },
  {
   "cell_type": "code",
   "execution_count": 12,
   "metadata": {},
   "outputs": [
    {
     "data": {
      "text/html": [
       "<div><style>\n",
       ".dataframe > thead > tr,\n",
       ".dataframe > tbody > tr {\n",
       "  text-align: right;\n",
       "  white-space: pre-wrap;\n",
       "}\n",
       "</style>\n",
       "<small>shape: (10, 9)</small><table border=\"1\" class=\"dataframe\"><thead><tr><th>file_name</th><th>file_path</th><th>duration_sec</th><th>clip_start</th><th>clip_end</th><th>sampling_rate</th><th>score</th><th>annotation</th><th>created_at</th></tr><tr><td>str</td><td>str</td><td>f32</td><td>f32</td><td>f32</td><td>i32</td><td>f32</td><td>i32</td><td>datetime[μs]</td></tr></thead><tbody><tr><td>&quot;Gilchrist_1_035_SMA00727_20240…</td><td>&quot;data/eval/audio/SD#035 from AR…</td><td>3598.0</td><td>200.0</td><td>205.0</td><td>32000</td><td>0.820676</td><td>1</td><td>2025-03-20 09:59:59.813465</td></tr><tr><td>&quot;Gilchrist_1_035_SMA00727_20240…</td><td>&quot;data/eval/audio/SD#035 from AR…</td><td>3598.0</td><td>240.0</td><td>245.0</td><td>32000</td><td>0.997637</td><td>1</td><td>2025-03-20 09:59:59.902155</td></tr><tr><td>&quot;Gilchrist_1_035_SMA00727_20240…</td><td>&quot;data/eval/audio/SD#035 from AR…</td><td>3598.0</td><td>1180.0</td><td>1185.0</td><td>32000</td><td>0.999903</td><td>1</td><td>2025-03-20 10:00:01.727441</td></tr><tr><td>&quot;Gilchrist_1_035_SMA00727_20240…</td><td>&quot;data/eval/audio/SD#035 from AR…</td><td>3598.0</td><td>1210.0</td><td>1215.0</td><td>32000</td><td>0.918792</td><td>1</td><td>2025-03-20 10:00:01.787008</td></tr><tr><td>&quot;Gilchrist_1_035_SMA00727_20240…</td><td>&quot;data/eval/audio/SD#035 from AR…</td><td>3598.0</td><td>3465.0</td><td>3470.0</td><td>32000</td><td>0.999986</td><td>1</td><td>2025-03-20 10:00:06.435402</td></tr><tr><td>&quot;Gilchrist_1_035_SMA00727_20240…</td><td>&quot;data/eval/audio/SD#035 from AR…</td><td>3598.0</td><td>1255.0</td><td>1260.0</td><td>32000</td><td>0.266532</td><td>1</td><td>2025-03-20 10:01:05.744925</td></tr><tr><td>&quot;Gilchrist_1_035_SMA00727_20240…</td><td>&quot;data/eval/audio/SD#035 from AR…</td><td>3598.0</td><td>1525.0</td><td>1530.0</td><td>32000</td><td>0.507328</td><td>1</td><td>2025-03-20 10:01:06.291665</td></tr><tr><td>&quot;Gilchrist_1_035_SMA00727_20240…</td><td>&quot;data/eval/audio/SD#035 from AR…</td><td>3598.0</td><td>1600.0</td><td>1605.0</td><td>32000</td><td>0.998858</td><td>1</td><td>2025-03-20 10:01:06.443009</td></tr><tr><td>&quot;Gilchrist_1_035_SMA00727_20240…</td><td>&quot;data/eval/audio/SD#035 from AR…</td><td>3598.0</td><td>1615.0</td><td>1620.0</td><td>32000</td><td>0.99983</td><td>1</td><td>2025-03-20 10:01:06.473564</td></tr><tr><td>&quot;Gilchrist_1_035_SMA00727_20240…</td><td>&quot;data/eval/audio/SD#035 from AR…</td><td>3598.0</td><td>1635.0</td><td>1640.0</td><td>32000</td><td>0.996057</td><td>1</td><td>2025-03-20 10:01:06.514035</td></tr></tbody></table></div>"
      ],
      "text/plain": [
       "shape: (10, 9)\n",
       "┌───────────┬───────────┬───────────┬───────────┬───┬───────────┬──────────┬───────────┬───────────┐\n",
       "│ file_name ┆ file_path ┆ duration_ ┆ clip_star ┆ … ┆ sampling_ ┆ score    ┆ annotatio ┆ created_a │\n",
       "│ ---       ┆ ---       ┆ sec       ┆ t         ┆   ┆ rate      ┆ ---      ┆ n         ┆ t         │\n",
       "│ str       ┆ str       ┆ ---       ┆ ---       ┆   ┆ ---       ┆ f32      ┆ ---       ┆ ---       │\n",
       "│           ┆           ┆ f32       ┆ f32       ┆   ┆ i32       ┆          ┆ i32       ┆ datetime[ │\n",
       "│           ┆           ┆           ┆           ┆   ┆           ┆          ┆           ┆ μs]       │\n",
       "╞═══════════╪═══════════╪═══════════╪═══════════╪═══╪═══════════╪══════════╪═══════════╪═══════════╡\n",
       "│ Gilchrist ┆ data/eval ┆ 3598.0    ┆ 200.0     ┆ … ┆ 32000     ┆ 0.820676 ┆ 1         ┆ 2025-03-2 │\n",
       "│ _1_035_SM ┆ /audio/SD ┆           ┆           ┆   ┆           ┆          ┆           ┆ 0 09:59:5 │\n",
       "│ A00727_20 ┆ #035 from ┆           ┆           ┆   ┆           ┆          ┆           ┆ 9.813465  │\n",
       "│ 240…      ┆ AR…       ┆           ┆           ┆   ┆           ┆          ┆           ┆           │\n",
       "│ Gilchrist ┆ data/eval ┆ 3598.0    ┆ 240.0     ┆ … ┆ 32000     ┆ 0.997637 ┆ 1         ┆ 2025-03-2 │\n",
       "│ _1_035_SM ┆ /audio/SD ┆           ┆           ┆   ┆           ┆          ┆           ┆ 0 09:59:5 │\n",
       "│ A00727_20 ┆ #035 from ┆           ┆           ┆   ┆           ┆          ┆           ┆ 9.902155  │\n",
       "│ 240…      ┆ AR…       ┆           ┆           ┆   ┆           ┆          ┆           ┆           │\n",
       "│ Gilchrist ┆ data/eval ┆ 3598.0    ┆ 1180.0    ┆ … ┆ 32000     ┆ 0.999903 ┆ 1         ┆ 2025-03-2 │\n",
       "│ _1_035_SM ┆ /audio/SD ┆           ┆           ┆   ┆           ┆          ┆           ┆ 0 10:00:0 │\n",
       "│ A00727_20 ┆ #035 from ┆           ┆           ┆   ┆           ┆          ┆           ┆ 1.727441  │\n",
       "│ 240…      ┆ AR…       ┆           ┆           ┆   ┆           ┆          ┆           ┆           │\n",
       "│ Gilchrist ┆ data/eval ┆ 3598.0    ┆ 1210.0    ┆ … ┆ 32000     ┆ 0.918792 ┆ 1         ┆ 2025-03-2 │\n",
       "│ _1_035_SM ┆ /audio/SD ┆           ┆           ┆   ┆           ┆          ┆           ┆ 0 10:00:0 │\n",
       "│ A00727_20 ┆ #035 from ┆           ┆           ┆   ┆           ┆          ┆           ┆ 1.787008  │\n",
       "│ 240…      ┆ AR…       ┆           ┆           ┆   ┆           ┆          ┆           ┆           │\n",
       "│ Gilchrist ┆ data/eval ┆ 3598.0    ┆ 3465.0    ┆ … ┆ 32000     ┆ 0.999986 ┆ 1         ┆ 2025-03-2 │\n",
       "│ _1_035_SM ┆ /audio/SD ┆           ┆           ┆   ┆           ┆          ┆           ┆ 0 10:00:0 │\n",
       "│ A00727_20 ┆ #035 from ┆           ┆           ┆   ┆           ┆          ┆           ┆ 6.435402  │\n",
       "│ 240…      ┆ AR…       ┆           ┆           ┆   ┆           ┆          ┆           ┆           │\n",
       "│ Gilchrist ┆ data/eval ┆ 3598.0    ┆ 1255.0    ┆ … ┆ 32000     ┆ 0.266532 ┆ 1         ┆ 2025-03-2 │\n",
       "│ _1_035_SM ┆ /audio/SD ┆           ┆           ┆   ┆           ┆          ┆           ┆ 0 10:01:0 │\n",
       "│ A00727_20 ┆ #035 from ┆           ┆           ┆   ┆           ┆          ┆           ┆ 5.744925  │\n",
       "│ 240…      ┆ AR…       ┆           ┆           ┆   ┆           ┆          ┆           ┆           │\n",
       "│ Gilchrist ┆ data/eval ┆ 3598.0    ┆ 1525.0    ┆ … ┆ 32000     ┆ 0.507328 ┆ 1         ┆ 2025-03-2 │\n",
       "│ _1_035_SM ┆ /audio/SD ┆           ┆           ┆   ┆           ┆          ┆           ┆ 0 10:01:0 │\n",
       "│ A00727_20 ┆ #035 from ┆           ┆           ┆   ┆           ┆          ┆           ┆ 6.291665  │\n",
       "│ 240…      ┆ AR…       ┆           ┆           ┆   ┆           ┆          ┆           ┆           │\n",
       "│ Gilchrist ┆ data/eval ┆ 3598.0    ┆ 1600.0    ┆ … ┆ 32000     ┆ 0.998858 ┆ 1         ┆ 2025-03-2 │\n",
       "│ _1_035_SM ┆ /audio/SD ┆           ┆           ┆   ┆           ┆          ┆           ┆ 0 10:01:0 │\n",
       "│ A00727_20 ┆ #035 from ┆           ┆           ┆   ┆           ┆          ┆           ┆ 6.443009  │\n",
       "│ 240…      ┆ AR…       ┆           ┆           ┆   ┆           ┆          ┆           ┆           │\n",
       "│ Gilchrist ┆ data/eval ┆ 3598.0    ┆ 1615.0    ┆ … ┆ 32000     ┆ 0.99983  ┆ 1         ┆ 2025-03-2 │\n",
       "│ _1_035_SM ┆ /audio/SD ┆           ┆           ┆   ┆           ┆          ┆           ┆ 0 10:01:0 │\n",
       "│ A00727_20 ┆ #035 from ┆           ┆           ┆   ┆           ┆          ┆           ┆ 6.473564  │\n",
       "│ 240…      ┆ AR…       ┆           ┆           ┆   ┆           ┆          ┆           ┆           │\n",
       "│ Gilchrist ┆ data/eval ┆ 3598.0    ┆ 1635.0    ┆ … ┆ 32000     ┆ 0.996057 ┆ 1         ┆ 2025-03-2 │\n",
       "│ _1_035_SM ┆ /audio/SD ┆           ┆           ┆   ┆           ┆          ┆           ┆ 0 10:01:0 │\n",
       "│ A00727_20 ┆ #035 from ┆           ┆           ┆   ┆           ┆          ┆           ┆ 6.514035  │\n",
       "│ 240…      ┆ AR…       ┆           ┆           ┆   ┆           ┆          ┆           ┆           │\n",
       "└───────────┴───────────┴───────────┴───────────┴───┴───────────┴──────────┴───────────┴───────────┘"
      ]
     },
     "execution_count": 12,
     "metadata": {},
     "output_type": "execute_result"
    }
   ],
   "source": [
    "annotated_examples.filter(pl.col(\"annotation\") == 1)"
   ]
  },
  {
   "cell_type": "code",
   "execution_count": null,
   "metadata": {},
   "outputs": [],
   "source": []
  }
 ],
 "metadata": {
  "kernelspec": {
   "display_name": "active_learning",
   "language": "python",
   "name": "python3"
  },
  "language_info": {
   "codemirror_mode": {
    "name": "ipython",
    "version": 3
   },
   "file_extension": ".py",
   "mimetype": "text/x-python",
   "name": "python",
   "nbconvert_exporter": "python",
   "pygments_lexer": "ipython3",
   "version": "3.12.9"
  }
 },
 "nbformat": 4,
 "nbformat_minor": 2
}
